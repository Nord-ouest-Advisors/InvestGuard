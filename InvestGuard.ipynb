{
  "nbformat": 4,
  "nbformat_minor": 0,
  "metadata": {
    "colab": {
      "name": "InvestGuard.ipynb",
      "provenance": [],
      "collapsed_sections": [],
      "authorship_tag": "ABX9TyOM32x12WYtK2kJ1hNmQY5B",
      "include_colab_link": true
    },
    "kernelspec": {
      "name": "python3",
      "display_name": "Python 3"
    },
    "language_info": {
      "name": "python"
    }
  },
  "cells": [
    {
      "cell_type": "markdown",
      "metadata": {
        "id": "view-in-github",
        "colab_type": "text"
      },
      "source": [
        "<a href=\"https://colab.research.google.com/github/Nord-ouest-Advisors/InvestGuard/blob/main/InvestGuard.ipynb\" target=\"_parent\"><img src=\"https://colab.research.google.com/assets/colab-badge.svg\" alt=\"Open In Colab\"/></a>"
      ]
    },
    {
      "cell_type": "code",
      "metadata": {
        "id": "L0sF3apfTpXw"
      },
      "source": [
        "import pandas as pd\n",
        "import numpy as np\n",
        "import matplotlib.pyplot as plt\n",
        "import datetime"
      ],
      "execution_count": 1,
      "outputs": []
    },
    {
      "cell_type": "markdown",
      "metadata": {
        "id": "wFCsEUqLUotQ"
      },
      "source": [
        "Functions to compute financial quantities"
      ]
    },
    {
      "cell_type": "code",
      "metadata": {
        "id": "ju69U2CY-o32"
      },
      "source": [
        "def daily_returns(data):\n",
        "    \"\"\"Returns DataFrame with daily returns (percentage change)\n",
        "    :math:`\\\\displaystyle R = \\\\dfrac{\\\\text{price}_{t_i} - \\\\text{price}_{t_{i-1}}}{\\\\text{price}_{t_{i-1}}}`\n",
        "    :Input:\n",
        "     :data: ``pandas.DataFrame`` with daily stock prices\n",
        "    :Output:\n",
        "     :ret: a ``pandas.DataFrame`` of daily percentage change of Returns\n",
        "         of given stock prices.\n",
        "    \"\"\"\n",
        "    return data.pct_change().dropna(how=\"all\").replace([np.inf, -np.inf], np.nan)\n",
        "\n",
        "def cumulative_returns(data, dividend=0):\n",
        "    \"\"\"Returns DataFrame with cumulative returns\n",
        "    :math:`\\\\displaystyle R = \\\\dfrac{\\\\text{price}_{t_i} - \\\\text{price}_{t_0} + \\\\text{dividend}}{\\\\text{price}_{t_0}}`\n",
        "    :Input:\n",
        "     :data: ``pandas.DataFrame`` with daily stock prices\n",
        "     :dividend: ``float`` (default= ``0``), paid dividend\n",
        "    :Output:\n",
        "     :ret: a ``pandas.DataFrame`` of cumulative Returns of given stock prices.\n",
        "    \"\"\"\n",
        "    if isinstance(data, pd.Series):\n",
        "        data = pd.DataFrame(data)\n",
        "    return data.dropna(axis=0, how=\"any\").apply(lambda x: (x - x[0] + dividend) / x[0])\n",
        "\n",
        "def historical_mean_return(data, freq=252):\n",
        "    \"\"\"Returns the mean return based on historical stock price data.\n",
        "    :Input:\n",
        "     :data: ``pandas.DataFrame`` with daily stock prices\n",
        "     :freq: ``int`` (default= ``252``), number of trading days, default\n",
        "             value corresponds to trading days in a year\n",
        "    :Output:\n",
        "     :ret: a ``pandas.DataFrame`` of historical mean Returns.\n",
        "    \"\"\"\n",
        "    if not isinstance(data, pd.DataFrame):\n",
        "        raise ValueError(\"data must be a pandas.DataFrame\")\n",
        "    return daily_returns(data).mean() * freq\n",
        "\n",
        "def annualize_rets(r, periods_per_year):\n",
        "    \"\"\"\n",
        "    Annualizes a set of returns\n",
        "    We should infer the periods per year\n",
        "    but that is currently left as an exercise\n",
        "    to the reader :-)\n",
        "    \"\"\"\n",
        "    compounded_growth = (1+r).prod()\n",
        "    n_periods = r.shape[0]\n",
        "    return compounded_growth**(periods_per_year/n_periods)-1\n",
        "\n",
        "\n",
        "def annualize_vol(r, periods_per_year):\n",
        "    \"\"\"\n",
        "    Annualizes the vol of a set of returns\n",
        "    We should infer the periods per year\n",
        "    but that is currently left as an exercise\n",
        "    to the reader :-)\n",
        "    \"\"\"\n",
        "    return r.std()*(periods_per_year**0.5)\n",
        "\n",
        "\n",
        "def sharpe_ratio(r, riskfree_rate, periods_per_year):\n",
        "    \"\"\"\n",
        "    Computes the annualized sharpe ratio of a set of returns\n",
        "    \"\"\"\n",
        "    # convert the annual riskfree rate to per period\n",
        "    rf_per_period = (1+riskfree_rate)**(1/periods_per_year)-1\n",
        "    excess_ret = r - rf_per_period\n",
        "    ann_ex_ret = annualize_rets(excess_ret, periods_per_year)\n",
        "    ann_vol = annualize_vol(r, periods_per_year)\n",
        "    return ann_ex_ret/ann_vol\n",
        "\n",
        "def drawdown(return_series: pd.Series):\n",
        "    \"\"\"Takes a time series of asset returns.\n",
        "       returns a DataFrame with columns for\n",
        "       the wealth index, \n",
        "       the previous peaks, and \n",
        "       the percentage drawdown\n",
        "    \"\"\"\n",
        "    wealth_index = 1000*(1+return_series).cumprod()\n",
        "    previous_peaks = wealth_index.cummax()\n",
        "    drawdowns = (wealth_index - previous_peaks)/previous_peaks\n",
        "    return pd.DataFrame({\"Wealth\": wealth_index, \n",
        "                         \"Previous Peak\": previous_peaks, \n",
        "                         \"Drawdown\": drawdowns})\n",
        "    \n",
        "def portfolio_return(weights, returns):\n",
        "    \"\"\"\n",
        "    Computes the return on a portfolio from constituent returns and weights\n",
        "    weights are a numpy array or Nx1 matrix and returns are a numpy array or Nx1 matrix\n",
        "    \"\"\"\n",
        "    return weights.T @ returns\n",
        "\n",
        "\n",
        "def portfolio_vol(weights, covmat):\n",
        "    \"\"\"\n",
        "    Computes the vol of a portfolio from a covariance matrix and constituent weights\n",
        "    weights are a numpy array or N x 1 maxtrix and covmat is an N x N matrix\n",
        "    \"\"\"\n",
        "    return (weights.T @ covmat @ weights)**0.5    \n",
        "\n",
        "def weighted_mean(means, weights):\n",
        "    \"\"\"Computes the weighted mean/average, or in the case of a\n",
        "    financial portfolio, it can be used for the Expected Return\n",
        "    of said portfolio.\n",
        "    :Input:\n",
        "     :means: ``numpy.ndarray``/``pd.Series`` of mean/average values\n",
        "     :weights: ``numpy.ndarray``/``pd.Series`` of weights\n",
        "    :Output:\n",
        "     :weighted mu: ``numpy.ndarray``: ``(np.sum(means*weights))``\n",
        "    \"\"\"\n",
        "    if not isinstance(weights, (pd.Series, np.ndarray)):\n",
        "        raise ValueError(\"weights is expected to be a pandas.Series/np.ndarray\")\n",
        "    if not isinstance(means, (pd.Series, np.ndarray)):\n",
        "        raise ValueError(\"means is expected to be a pandas.Series/np.ndarray\")\n",
        "    return np.sum(means * weights)\n",
        "\n",
        "\n",
        "def weighted_std(cov_matrix, weights):\n",
        "    \"\"\"Computes the weighted standard deviation, or Volatility of\n",
        "    a portfolio, which contains several stocks.\n",
        "    :Input:\n",
        "     :cov_matrix: ``numpy.ndarray``/``pandas.DataFrame``, covariance matrix\n",
        "     :weights: ``numpy.ndarray``/``pd.Series`` of weights\n",
        "    :Output:\n",
        "     :weighted sigma: ``numpy.ndarray``:\n",
        "         ``np.sqrt(np.dot(weights.T, np.dot(cov_matrix, weights)))``\n",
        "    \"\"\"\n",
        "    if not isinstance(weights, (pd.Series, np.ndarray)):\n",
        "        raise ValueError(\"weights is expected to be a pandas.Series, np.array\")\n",
        "    if not isinstance(cov_matrix, (np.ndarray, (np.ndarray, pd.DataFrame))):\n",
        "        raise ValueError(\n",
        "            \"cov_matrix is expected to be a numpy.ndarray/pandas.DataFrame\"\n",
        "        )\n",
        "    return np.sqrt(np.dot(weights.T, np.dot(cov_matrix, weights)))\n",
        "\n",
        "\n",
        "def sharpe_ratio(exp_return, volatility, risk_free_rate=0.005):\n",
        "    \"\"\"Computes the Sharpe Ratio\n",
        "    :Input:\n",
        "     :exp_return: ``int``/``float``, Expected Return of a portfolio\n",
        "     :volatility: ``int``/``float``, Volatility of a portfolio\n",
        "     :risk_free_rate: ``int``/``float`` (default= ``0.005``), risk free rate\n",
        "    :Output:\n",
        "     :sharpe ratio: ``float`` ``(exp_return - risk_free_rate)/float(volatility)``\n",
        "    \"\"\"\n",
        "    if not isinstance(\n",
        "        exp_return, (int, float, np.int32, np.int64, np.float32, np.float64)\n",
        "    ):\n",
        "        raise ValueError(\"exp_return is expected to be an integer or float.\")\n",
        "    if not isinstance(\n",
        "        volatility, (int, float, np.int32, np.int64, np.float32, np.float64)\n",
        "    ):\n",
        "        raise ValueError(\"volatility is expected to be an integer or float.\")\n",
        "    if not isinstance(\n",
        "        risk_free_rate, (int, float, np.int32, np.int64, np.float32, np.float64)\n",
        "    ):\n",
        "        raise ValueError(\"risk_free_rate is expected to be an integer or float.\")\n",
        "    return (exp_return - risk_free_rate) / float(volatility)\n",
        "\n",
        "\n",
        "def annualised_portfolio_quantities(weights, means, cov_matrix, risk_free_rate=0.005, freq=252):\n",
        "    \"\"\"Computes and returns the expected annualised return, volatility\n",
        "    and Sharpe Ratio of a portfolio.\n",
        "    :Input:\n",
        "     :weights: ``numpy.ndarray``/``pd.Series`` of weights\n",
        "     :means: ``numpy.ndarray``/``pd.Series`` of mean/average values\n",
        "     :cov_matrix: ``numpy.ndarray``/``pandas.DataFrame``, covariance matrix\n",
        "     :risk_free_rate: ``float`` (default= ``0.005``), risk free rate\n",
        "     :freq: ``int`` (default= ``252``), number of trading days, default\n",
        "         value corresponds to trading days in a year\n",
        "    :Output:\n",
        "     :(Expected Return, Volatility, Sharpe Ratio): tuple of those\n",
        "         three quantities\n",
        "    \"\"\"\n",
        "    if not isinstance(freq, int):\n",
        "        raise ValueError(\"freq is expected to be an integer.\")\n",
        "    expected_return = weighted_mean(means, weights) * freq\n",
        "    volatility = weighted_std(cov_matrix, weights) * np.sqrt(freq)\n",
        "    sharpe = sharpe_ratio(expected_return, volatility, risk_free_rate)\n",
        "    return (expected_return, volatility, sharpe)"
      ],
      "execution_count": 2,
      "outputs": []
    },
    {
      "cell_type": "code",
      "metadata": {
        "id": "Xuo-aQFvWZoW"
      },
      "source": [
        "trnx_url = 'https://raw.githubusercontent.com/Nord-ouest-Advisors/InvestGuard/main/data/SampleTransactions.csv?token=ATIZFFVOVFH4FDFT3E5JACLAY3VSA'\n",
        "prices_url = 'https://raw.githubusercontent.com/Nord-ouest-Advisors/InvestGuard/main/data/Prices.csv?token=ATIZFFRAZPQAW4CE7SLEYODAY3VTY'\n",
        "info_url = 'https://raw.githubusercontent.com/Nord-ouest-Advisors/InvestGuard/main/data/FundsInfo.csv?token=ATIZFFVW6AOPSMBNG473IKLAY3VV2'"
      ],
      "execution_count": 3,
      "outputs": []
    },
    {
      "cell_type": "code",
      "metadata": {
        "id": "0BYs-sos8Wq3"
      },
      "source": [
        "def get_transactions(url):\n",
        "    trnx = pd.read_csv(url)\n",
        "    trnx['InstructionDate'] = pd.to_datetime(trnx['InstructionDate'])\n",
        "    trnx.sort_values(by=['FundPortfolio','InstructionDate'], inplace=True)\n",
        "    return trnx\n",
        "\n",
        "def get_prices(url):\n",
        "    prices = pd.read_csv(url)\n",
        "    prices['Date'] = pd.to_datetime(prices['Date'])\n",
        "    prices.sort_values(by=['FundISIN', 'Date'], inplace=True)\n",
        "    prices.set_index(['Date'], inplace=True)\n",
        "    prices.reset_index(inplace=True)\n",
        "    return prices\n",
        "\n",
        "def get_funds_info(url):\n",
        "    info = pd.read_csv(info_url)\n",
        "    info['FundNameAdj'] = info['FundName']+\"(\"+info['Currency']+\")\"\n",
        "    return info\n",
        "\n",
        "def get_names_dict(url):\n",
        "    info = pd.read_csv(info_url)\n",
        "    info['FundNameAdj'] = info['FundName']+\"(\"+info['Currency']+\")\"\n",
        "    info_copy = info.copy()\n",
        "    cols = ['FundISIN','FundNameAdj']\n",
        "    info_copy = info_copy[cols].set_index('FundISIN')\n",
        "    info_dict = {isin:info_copy.loc[isin][0] for isin in info_copy.index}\n",
        "    return info_dict\n"
      ],
      "execution_count": 4,
      "outputs": []
    },
    {
      "cell_type": "code",
      "metadata": {
        "id": "nmnnx1pVQBvb"
      },
      "source": [
        "trnx = get_transactions(trnx_url)\n",
        "prices = get_prices(prices_url)\n",
        "info = get_funds_info(info_url)\n",
        "names = get_names_dict(info_url)"
      ],
      "execution_count": 5,
      "outputs": []
    },
    {
      "cell_type": "code",
      "metadata": {
        "id": "AmpOuESakS8y"
      },
      "source": [
        ""
      ],
      "execution_count": 12,
      "outputs": []
    },
    {
      "cell_type": "code",
      "metadata": {
        "colab": {
          "base_uri": "https://localhost:8080/"
        },
        "id": "Ky3O7-2XALZi",
        "outputId": "b1165d08-2be3-4358-a3ea-7d268935d531"
      },
      "source": [
        "portfolios_dict = {portfolio:trnx[trnx['FundPortfolio']==portfolio] for portfolio in trnx['FundPortfolio'].unique()}\n",
        "portfolios_dict"
      ],
      "execution_count": 6,
      "outputs": [
        {
          "output_type": "execute_result",
          "data": {
            "text/plain": [
              "{'PopularPortfolio_01':   CustomerID InstructionDate      FundISIN  ...  NetAmount PricePerUnit       Units\n",
              " 0      Admin      2013-01-22  LU1883861137  ...  424315.59         8.27  51307.8096\n",
              " 1      Admin      2013-01-22  LU1882449801  ...  939173.97        11.70  80271.2793\n",
              " 2      Admin      2013-01-22  LU1882447425  ...  835156.88        19.12  43679.7529\n",
              " 3      Admin      2013-01-22  LU1883306497  ...  435508.89        98.84   4406.2008\n",
              " 4      Admin      2013-01-22  LU0557854147  ...  727962.28        99.42   7322.0909\n",
              " 5      Admin      2013-01-22  LU0568620560  ...  266795.00       100.98   2642.0578\n",
              " 6      Admin      2013-01-22  LU0557858130  ...  394552.59       102.41   3852.6763\n",
              " 7      Admin      2013-01-22  LU1883854199  ...  376595.05       103.97   3622.1511\n",
              " 8      Admin      2013-01-22  LU1883318740  ...  826505.62       166.61   4960.7204\n",
              " \n",
              " [9 rows x 13 columns],\n",
              " 'PopularPortfolio_02':    CustomerID InstructionDate  ... PricePerUnit       Units\n",
              " 9       Admin      2008-11-26  ...         5.49  44538.8652\n",
              " 10      Admin      2008-11-26  ...        94.84    643.6180\n",
              " \n",
              " [2 rows x 13 columns],\n",
              " 'PopularPortfolio_03':    CustomerID InstructionDate  ... PricePerUnit       Units\n",
              " 11      Admin      2020-10-09  ...        50.91  12996.7787\n",
              " \n",
              " [1 rows x 13 columns],\n",
              " 'PopularPortfolio_04':    CustomerID InstructionDate      FundISIN  ...  NetAmount PricePerUnit      Units\n",
              " 12      Admin      2019-07-31  LU1983299246  ...  937275.77       100.00  9372.7577\n",
              " 13      Admin      2019-07-31  LU1049752592  ...  603398.32       113.55  5313.9438\n",
              " 14      Admin      2019-07-31  LU1883306570  ...  594345.06       181.76  3269.9442\n",
              " \n",
              " [3 rows x 13 columns],\n",
              " 'PopularPortfolio_05':    CustomerID InstructionDate  ... PricePerUnit       Units\n",
              " 15      Admin      2012-04-17  ...         7.55  95020.6354\n",
              " 16      Admin      2012-04-17  ...        10.50  91009.5088\n",
              " 17      Admin      2012-04-17  ...        17.34  35515.9530\n",
              " 18      Admin      2012-04-17  ...        85.86   8949.0910\n",
              " 19      Admin      2012-04-17  ...        92.15   2062.6851\n",
              " 20      Admin      2012-04-17  ...        99.34   7953.6816\n",
              " 21      Admin      2012-04-17  ...       100.66   1692.5690\n",
              " 22      Admin      2012-04-17  ...       151.91   4730.1203\n",
              " 23      Admin      2012-04-17  ...        99.10   7967.4473\n",
              " \n",
              " [9 rows x 13 columns]}"
            ]
          },
          "metadata": {
            "tags": []
          },
          "execution_count": 6
        }
      ]
    },
    {
      "cell_type": "code",
      "metadata": {
        "colab": {
          "base_uri": "https://localhost:8080/",
          "height": 349
        },
        "id": "_DHhDeeB-Aq2",
        "outputId": "45051f82-dad8-438a-9c14-4f6147037d34"
      },
      "source": [
        "prtfl_trnx = portfolios_dict['PopularPortfolio_04']\n",
        "prtfl_prices = prices[(prices['FundISIN'].isin(prtfl_trnx['FundISIN'].unique())) & (prices['Date']>=prtfl_trnx['InstructionDate'].min())]\n",
        "prtfl_trnx"
      ],
      "execution_count": 7,
      "outputs": [
        {
          "output_type": "execute_result",
          "data": {
            "text/html": [
              "<div>\n",
              "<style scoped>\n",
              "    .dataframe tbody tr th:only-of-type {\n",
              "        vertical-align: middle;\n",
              "    }\n",
              "\n",
              "    .dataframe tbody tr th {\n",
              "        vertical-align: top;\n",
              "    }\n",
              "\n",
              "    .dataframe thead th {\n",
              "        text-align: right;\n",
              "    }\n",
              "</style>\n",
              "<table border=\"1\" class=\"dataframe\">\n",
              "  <thead>\n",
              "    <tr style=\"text-align: right;\">\n",
              "      <th></th>\n",
              "      <th>CustomerID</th>\n",
              "      <th>InstructionDate</th>\n",
              "      <th>FundISIN</th>\n",
              "      <th>FundName</th>\n",
              "      <th>FundCurrency</th>\n",
              "      <th>FundOperation</th>\n",
              "      <th>FundPortfolio</th>\n",
              "      <th>GrossAmount</th>\n",
              "      <th>Fee</th>\n",
              "      <th>FeeAmount</th>\n",
              "      <th>NetAmount</th>\n",
              "      <th>PricePerUnit</th>\n",
              "      <th>Units</th>\n",
              "    </tr>\n",
              "  </thead>\n",
              "  <tbody>\n",
              "    <tr>\n",
              "      <th>12</th>\n",
              "      <td>Admin</td>\n",
              "      <td>2019-07-31</td>\n",
              "      <td>LU1983299246</td>\n",
              "      <td>SCHRODER ISF HEALTHCARE INNOVATION</td>\n",
              "      <td>USD</td>\n",
              "      <td>Buy</td>\n",
              "      <td>PopularPortfolio_04</td>\n",
              "      <td>951549</td>\n",
              "      <td>0.0150</td>\n",
              "      <td>14273.24</td>\n",
              "      <td>937275.77</td>\n",
              "      <td>100.00</td>\n",
              "      <td>9372.7577</td>\n",
              "    </tr>\n",
              "    <tr>\n",
              "      <th>13</th>\n",
              "      <td>Admin</td>\n",
              "      <td>2019-07-31</td>\n",
              "      <td>LU1049752592</td>\n",
              "      <td>AMUNDI FUNDS GLOBAL AGGREGATE BOND</td>\n",
              "      <td>USD</td>\n",
              "      <td>Buy</td>\n",
              "      <td>PopularPortfolio_04</td>\n",
              "      <td>607958</td>\n",
              "      <td>0.0075</td>\n",
              "      <td>4559.69</td>\n",
              "      <td>603398.32</td>\n",
              "      <td>113.55</td>\n",
              "      <td>5313.9438</td>\n",
              "    </tr>\n",
              "    <tr>\n",
              "      <th>14</th>\n",
              "      <td>Admin</td>\n",
              "      <td>2019-07-31</td>\n",
              "      <td>LU1883306570</td>\n",
              "      <td>AMUNDI FUNDS EUROPEAN EQUITY SMALL CAP</td>\n",
              "      <td>USD</td>\n",
              "      <td>Buy</td>\n",
              "      <td>PopularPortfolio_04</td>\n",
              "      <td>603396</td>\n",
              "      <td>0.0150</td>\n",
              "      <td>9050.94</td>\n",
              "      <td>594345.06</td>\n",
              "      <td>181.76</td>\n",
              "      <td>3269.9442</td>\n",
              "    </tr>\n",
              "  </tbody>\n",
              "</table>\n",
              "</div>"
            ],
            "text/plain": [
              "   CustomerID InstructionDate      FundISIN  ...  NetAmount PricePerUnit      Units\n",
              "12      Admin      2019-07-31  LU1983299246  ...  937275.77       100.00  9372.7577\n",
              "13      Admin      2019-07-31  LU1049752592  ...  603398.32       113.55  5313.9438\n",
              "14      Admin      2019-07-31  LU1883306570  ...  594345.06       181.76  3269.9442\n",
              "\n",
              "[3 rows x 13 columns]"
            ]
          },
          "metadata": {
            "tags": []
          },
          "execution_count": 7
        }
      ]
    },
    {
      "cell_type": "code",
      "metadata": {
        "id": "OSWesaf9-x-O"
      },
      "source": [
        "def prices_fill(prices):\n",
        "    df = prices.set_index('Date')\n",
        "    #period = pd.date_range(start=prices.index.min(), end=prices.index.max(), freq='d')\n",
        "    #prices_df = pd.DataFrame(index=period, columns = prices['FundISIN'].unique())\n",
        "    return df\n"
      ],
      "execution_count": 21,
      "outputs": []
    },
    {
      "cell_type": "code",
      "metadata": {
        "colab": {
          "base_uri": "https://localhost:8080/",
          "height": 204
        },
        "id": "9fJ4wXUx1sCf",
        "outputId": "8fc285fe-e56c-4396-8615-1e134bed2b65"
      },
      "source": [
        "prtfl_prices.head()"
      ],
      "execution_count": 9,
      "outputs": [
        {
          "output_type": "execute_result",
          "data": {
            "text/html": [
              "<div>\n",
              "<style scoped>\n",
              "    .dataframe tbody tr th:only-of-type {\n",
              "        vertical-align: middle;\n",
              "    }\n",
              "\n",
              "    .dataframe tbody tr th {\n",
              "        vertical-align: top;\n",
              "    }\n",
              "\n",
              "    .dataframe thead th {\n",
              "        text-align: right;\n",
              "    }\n",
              "</style>\n",
              "<table border=\"1\" class=\"dataframe\">\n",
              "  <thead>\n",
              "    <tr style=\"text-align: right;\">\n",
              "      <th></th>\n",
              "      <th>Date</th>\n",
              "      <th>FundISIN</th>\n",
              "      <th>FundNAV</th>\n",
              "    </tr>\n",
              "  </thead>\n",
              "  <tbody>\n",
              "    <tr>\n",
              "      <th>33385</th>\n",
              "      <td>2019-07-31</td>\n",
              "      <td>LU1049752592</td>\n",
              "      <td>113.55</td>\n",
              "    </tr>\n",
              "    <tr>\n",
              "      <th>33386</th>\n",
              "      <td>2019-08-01</td>\n",
              "      <td>LU1049752592</td>\n",
              "      <td>113.89</td>\n",
              "    </tr>\n",
              "    <tr>\n",
              "      <th>33387</th>\n",
              "      <td>2019-08-02</td>\n",
              "      <td>LU1049752592</td>\n",
              "      <td>114.13</td>\n",
              "    </tr>\n",
              "    <tr>\n",
              "      <th>33388</th>\n",
              "      <td>2019-08-05</td>\n",
              "      <td>LU1049752592</td>\n",
              "      <td>114.08</td>\n",
              "    </tr>\n",
              "    <tr>\n",
              "      <th>33389</th>\n",
              "      <td>2019-08-06</td>\n",
              "      <td>LU1049752592</td>\n",
              "      <td>114.33</td>\n",
              "    </tr>\n",
              "  </tbody>\n",
              "</table>\n",
              "</div>"
            ],
            "text/plain": [
              "            Date      FundISIN  FundNAV\n",
              "33385 2019-07-31  LU1049752592   113.55\n",
              "33386 2019-08-01  LU1049752592   113.89\n",
              "33387 2019-08-02  LU1049752592   114.13\n",
              "33388 2019-08-05  LU1049752592   114.08\n",
              "33389 2019-08-06  LU1049752592   114.33"
            ]
          },
          "metadata": {
            "tags": []
          },
          "execution_count": 9
        }
      ]
    },
    {
      "cell_type": "code",
      "metadata": {
        "colab": {
          "base_uri": "https://localhost:8080/",
          "height": 235
        },
        "id": "6lMZgv53Gkfc",
        "outputId": "8d0c2447-c5cc-4019-ccc6-4ac0e15e9bd1"
      },
      "source": [
        "prtfl_prices_df = prtfl_prices.set_index('Date')\n",
        "prtfl_prices_df = prtfl_prices_df.pivot(columns=['FundISIN']).fillna(method='bfill')\n",
        "prtfl_prices_df.columns = [col[1] for col in prtfl_prices_df.columns]\n",
        "prtfl_prices_df.rename(columns=names, inplace=True)\n",
        "prtfl_prices_df.head()"
      ],
      "execution_count": 10,
      "outputs": [
        {
          "output_type": "execute_result",
          "data": {
            "text/html": [
              "<div>\n",
              "<style scoped>\n",
              "    .dataframe tbody tr th:only-of-type {\n",
              "        vertical-align: middle;\n",
              "    }\n",
              "\n",
              "    .dataframe tbody tr th {\n",
              "        vertical-align: top;\n",
              "    }\n",
              "\n",
              "    .dataframe thead th {\n",
              "        text-align: right;\n",
              "    }\n",
              "</style>\n",
              "<table border=\"1\" class=\"dataframe\">\n",
              "  <thead>\n",
              "    <tr style=\"text-align: right;\">\n",
              "      <th></th>\n",
              "      <th>AMUNDI FUNDS GLOBAL AGGREGATE BOND (USD)</th>\n",
              "      <th>AMUNDI FUNDS EUROPEAN EQUITY SMALL CAP (USD)</th>\n",
              "      <th>SCHRODER ISF HEALTHCARE INNOVATION(USD)</th>\n",
              "    </tr>\n",
              "    <tr>\n",
              "      <th>Date</th>\n",
              "      <th></th>\n",
              "      <th></th>\n",
              "      <th></th>\n",
              "    </tr>\n",
              "  </thead>\n",
              "  <tbody>\n",
              "    <tr>\n",
              "      <th>2019-07-31</th>\n",
              "      <td>113.55</td>\n",
              "      <td>181.76</td>\n",
              "      <td>100.0000</td>\n",
              "    </tr>\n",
              "    <tr>\n",
              "      <th>2019-08-01</th>\n",
              "      <td>113.89</td>\n",
              "      <td>181.14</td>\n",
              "      <td>100.1407</td>\n",
              "    </tr>\n",
              "    <tr>\n",
              "      <th>2019-08-02</th>\n",
              "      <td>114.13</td>\n",
              "      <td>177.62</td>\n",
              "      <td>99.6260</td>\n",
              "    </tr>\n",
              "    <tr>\n",
              "      <th>2019-08-05</th>\n",
              "      <td>114.08</td>\n",
              "      <td>174.65</td>\n",
              "      <td>97.5020</td>\n",
              "    </tr>\n",
              "    <tr>\n",
              "      <th>2019-08-06</th>\n",
              "      <td>114.33</td>\n",
              "      <td>174.36</td>\n",
              "      <td>96.4027</td>\n",
              "    </tr>\n",
              "  </tbody>\n",
              "</table>\n",
              "</div>"
            ],
            "text/plain": [
              "            AMUNDI FUNDS GLOBAL AGGREGATE BOND (USD)  ...  SCHRODER ISF HEALTHCARE INNOVATION(USD)\n",
              "Date                                                  ...                                         \n",
              "2019-07-31                                    113.55  ...                                 100.0000\n",
              "2019-08-01                                    113.89  ...                                 100.1407\n",
              "2019-08-02                                    114.13  ...                                  99.6260\n",
              "2019-08-05                                    114.08  ...                                  97.5020\n",
              "2019-08-06                                    114.33  ...                                  96.4027\n",
              "\n",
              "[5 rows x 3 columns]"
            ]
          },
          "metadata": {
            "tags": []
          },
          "execution_count": 10
        }
      ]
    },
    {
      "cell_type": "code",
      "metadata": {
        "colab": {
          "base_uri": "https://localhost:8080/",
          "height": 490
        },
        "id": "LMVIqX0sRauD",
        "outputId": "e6460fa6-b685-4ade-f50e-08100195eb73"
      },
      "source": [
        "cumulative_returns(prtfl_prices_df).plot(figsize=(12,8), legend=True)"
      ],
      "execution_count": 11,
      "outputs": [
        {
          "output_type": "execute_result",
          "data": {
            "text/plain": [
              "<matplotlib.axes._subplots.AxesSubplot at 0x7f99e3b45250>"
            ]
          },
          "metadata": {
            "tags": []
          },
          "execution_count": 11
        },
        {
          "output_type": "display_data",
          "data": {
            "image/png": "[encoded data removed]",
            "text/plain": [
              "<Figure size 864x576 with 1 Axes>"
            ]
          },
          "metadata": {
            "tags": [],
            "needs_background": "light"
          }
        }
      ]
    },
    {
      "cell_type": "code",
      "metadata": {
        "id": "twtoi-dCi8TK"
      },
      "source": [
        ""
      ],
      "execution_count": 10,
      "outputs": []
    },
    {
      "cell_type": "markdown",
      "metadata": {
        "id": "XaokRgSEElh3"
      },
      "source": [
        ""
      ]
    },
    {
      "cell_type": "code",
      "metadata": {
        "id": "VUoDSotODXx9"
      },
      "source": [
        "end_date = prtfl_prices['Date'].max()\n",
        "\n",
        "def daily_snapshot(transactions):\n",
        "\n",
        "    period_start = transactions['InstructionDate'].min()\n",
        "    period = pd.date_range(start=period_start, end=end_date)\n",
        "    daily_snapshot = []\n",
        "    for date in period:\n",
        "        daily_position = transactions[transactions['InstructionDate'] <= date]\n",
        "        daily_position['DateSnapshot'] = date\n",
        "        daily_snapshot.append(daily_position)\n",
        "  \n",
        "    return daily_snapshot\n",
        "\n",
        "def modified_cost_per_unit(transactions, prices):\n",
        "    df = pd.merge(transactions, prices, left_on=['DateSnapshot', 'FundISIN'], right_on=['Date','FundISIN'], how='left')\n",
        "    df.rename(columns={'FundNAV':'AdjPricePerUnit'}, inplace=True)\n",
        "    df = df.fillna(method='bfill')\n",
        "    df['AdjCostDaily'] = round(df['Units'] * df['AdjPricePerUnit'],2)\n",
        "    return df"
      ],
      "execution_count": 22,
      "outputs": []
    },
    {
      "cell_type": "code",
      "metadata": {
        "id": "OBjz2nocfG_V",
        "colab": {
          "base_uri": "https://localhost:8080/",
          "height": 349
        },
        "outputId": "b2dd2219-b19e-469f-c808-e4f036027cf8"
      },
      "source": [
        "trnx_df = daily_snapshot(prtfl_trnx)\n",
        "trnx_df[20]"
      ],
      "execution_count": 23,
      "outputs": [
        {
          "output_type": "execute_result",
          "data": {
            "text/html": [
              "<div>\n",
              "<style scoped>\n",
              "    .dataframe tbody tr th:only-of-type {\n",
              "        vertical-align: middle;\n",
              "    }\n",
              "\n",
              "    .dataframe tbody tr th {\n",
              "        vertical-align: top;\n",
              "    }\n",
              "\n",
              "    .dataframe thead th {\n",
              "        text-align: right;\n",
              "    }\n",
              "</style>\n",
              "<table border=\"1\" class=\"dataframe\">\n",
              "  <thead>\n",
              "    <tr style=\"text-align: right;\">\n",
              "      <th></th>\n",
              "      <th>CustomerID</th>\n",
              "      <th>InstructionDate</th>\n",
              "      <th>FundISIN</th>\n",
              "      <th>FundName</th>\n",
              "      <th>FundCurrency</th>\n",
              "      <th>FundOperation</th>\n",
              "      <th>FundPortfolio</th>\n",
              "      <th>GrossAmount</th>\n",
              "      <th>Fee</th>\n",
              "      <th>FeeAmount</th>\n",
              "      <th>NetAmount</th>\n",
              "      <th>PricePerUnit</th>\n",
              "      <th>Units</th>\n",
              "      <th>DateSnapshot</th>\n",
              "    </tr>\n",
              "  </thead>\n",
              "  <tbody>\n",
              "    <tr>\n",
              "      <th>12</th>\n",
              "      <td>Admin</td>\n",
              "      <td>2019-07-31</td>\n",
              "      <td>LU1983299246</td>\n",
              "      <td>SCHRODER ISF HEALTHCARE INNOVATION</td>\n",
              "      <td>USD</td>\n",
              "      <td>Buy</td>\n",
              "      <td>PopularPortfolio_04</td>\n",
              "      <td>951549</td>\n",
              "      <td>0.0150</td>\n",
              "      <td>14273.24</td>\n",
              "      <td>937275.77</td>\n",
              "      <td>100.00</td>\n",
              "      <td>9372.7577</td>\n",
              "      <td>2019-08-20</td>\n",
              "    </tr>\n",
              "    <tr>\n",
              "      <th>13</th>\n",
              "      <td>Admin</td>\n",
              "      <td>2019-07-31</td>\n",
              "      <td>LU1049752592</td>\n",
              "      <td>AMUNDI FUNDS GLOBAL AGGREGATE BOND</td>\n",
              "      <td>USD</td>\n",
              "      <td>Buy</td>\n",
              "      <td>PopularPortfolio_04</td>\n",
              "      <td>607958</td>\n",
              "      <td>0.0075</td>\n",
              "      <td>4559.69</td>\n",
              "      <td>603398.32</td>\n",
              "      <td>113.55</td>\n",
              "      <td>5313.9438</td>\n",
              "      <td>2019-08-20</td>\n",
              "    </tr>\n",
              "    <tr>\n",
              "      <th>14</th>\n",
              "      <td>Admin</td>\n",
              "      <td>2019-07-31</td>\n",
              "      <td>LU1883306570</td>\n",
              "      <td>AMUNDI FUNDS EUROPEAN EQUITY SMALL CAP</td>\n",
              "      <td>USD</td>\n",
              "      <td>Buy</td>\n",
              "      <td>PopularPortfolio_04</td>\n",
              "      <td>603396</td>\n",
              "      <td>0.0150</td>\n",
              "      <td>9050.94</td>\n",
              "      <td>594345.06</td>\n",
              "      <td>181.76</td>\n",
              "      <td>3269.9442</td>\n",
              "      <td>2019-08-20</td>\n",
              "    </tr>\n",
              "  </tbody>\n",
              "</table>\n",
              "</div>"
            ],
            "text/plain": [
              "   CustomerID InstructionDate  ...      Units DateSnapshot\n",
              "12      Admin      2019-07-31  ...  9372.7577   2019-08-20\n",
              "13      Admin      2019-07-31  ...  5313.9438   2019-08-20\n",
              "14      Admin      2019-07-31  ...  3269.9442   2019-08-20\n",
              "\n",
              "[3 rows x 14 columns]"
            ]
          },
          "metadata": {
            "tags": []
          },
          "execution_count": 23
        }
      ]
    },
    {
      "cell_type": "code",
      "metadata": {
        "colab": {
          "base_uri": "https://localhost:8080/",
          "height": 629
        },
        "id": "5ph7hZEIhJaI",
        "outputId": "bda3d6d9-b678-4edc-f3b3-6ab0b498f35b"
      },
      "source": [
        "combined_df = modified_cost_per_unit(pd.concat(trnx_df), prtfl_prices)\n",
        "combined_df = combined_df.drop('Date',axis=1)\n",
        "combined_df.tail(6)"
      ],
      "execution_count": 28,
      "outputs": [
        {
          "output_type": "execute_result",
          "data": {
            "text/html": [
              "<div>\n",
              "<style scoped>\n",
              "    .dataframe tbody tr th:only-of-type {\n",
              "        vertical-align: middle;\n",
              "    }\n",
              "\n",
              "    .dataframe tbody tr th {\n",
              "        vertical-align: top;\n",
              "    }\n",
              "\n",
              "    .dataframe thead th {\n",
              "        text-align: right;\n",
              "    }\n",
              "</style>\n",
              "<table border=\"1\" class=\"dataframe\">\n",
              "  <thead>\n",
              "    <tr style=\"text-align: right;\">\n",
              "      <th></th>\n",
              "      <th>CustomerID</th>\n",
              "      <th>InstructionDate</th>\n",
              "      <th>FundISIN</th>\n",
              "      <th>FundName</th>\n",
              "      <th>FundCurrency</th>\n",
              "      <th>FundOperation</th>\n",
              "      <th>FundPortfolio</th>\n",
              "      <th>GrossAmount</th>\n",
              "      <th>Fee</th>\n",
              "      <th>FeeAmount</th>\n",
              "      <th>NetAmount</th>\n",
              "      <th>PricePerUnit</th>\n",
              "      <th>Units</th>\n",
              "      <th>DateSnapshot</th>\n",
              "      <th>AdjPricePerUnit</th>\n",
              "      <th>AdjCostDaily</th>\n",
              "    </tr>\n",
              "  </thead>\n",
              "  <tbody>\n",
              "    <tr>\n",
              "      <th>1989</th>\n",
              "      <td>Admin</td>\n",
              "      <td>2019-07-31</td>\n",
              "      <td>LU1983299246</td>\n",
              "      <td>SCHRODER ISF HEALTHCARE INNOVATION</td>\n",
              "      <td>USD</td>\n",
              "      <td>Buy</td>\n",
              "      <td>PopularPortfolio_04</td>\n",
              "      <td>951549</td>\n",
              "      <td>0.0150</td>\n",
              "      <td>14273.24</td>\n",
              "      <td>937275.77</td>\n",
              "      <td>100.00</td>\n",
              "      <td>9372.7577</td>\n",
              "      <td>2021-05-24</td>\n",
              "      <td>168.5143</td>\n",
              "      <td>1579443.70</td>\n",
              "    </tr>\n",
              "    <tr>\n",
              "      <th>1990</th>\n",
              "      <td>Admin</td>\n",
              "      <td>2019-07-31</td>\n",
              "      <td>LU1049752592</td>\n",
              "      <td>AMUNDI FUNDS GLOBAL AGGREGATE BOND</td>\n",
              "      <td>USD</td>\n",
              "      <td>Buy</td>\n",
              "      <td>PopularPortfolio_04</td>\n",
              "      <td>607958</td>\n",
              "      <td>0.0075</td>\n",
              "      <td>4559.69</td>\n",
              "      <td>603398.32</td>\n",
              "      <td>113.55</td>\n",
              "      <td>5313.9438</td>\n",
              "      <td>2021-05-24</td>\n",
              "      <td>168.7500</td>\n",
              "      <td>896728.02</td>\n",
              "    </tr>\n",
              "    <tr>\n",
              "      <th>1991</th>\n",
              "      <td>Admin</td>\n",
              "      <td>2019-07-31</td>\n",
              "      <td>LU1883306570</td>\n",
              "      <td>AMUNDI FUNDS EUROPEAN EQUITY SMALL CAP</td>\n",
              "      <td>USD</td>\n",
              "      <td>Buy</td>\n",
              "      <td>PopularPortfolio_04</td>\n",
              "      <td>603396</td>\n",
              "      <td>0.0150</td>\n",
              "      <td>9050.94</td>\n",
              "      <td>594345.06</td>\n",
              "      <td>181.76</td>\n",
              "      <td>3269.9442</td>\n",
              "      <td>2021-05-24</td>\n",
              "      <td>168.7500</td>\n",
              "      <td>551803.08</td>\n",
              "    </tr>\n",
              "    <tr>\n",
              "      <th>1992</th>\n",
              "      <td>Admin</td>\n",
              "      <td>2019-07-31</td>\n",
              "      <td>LU1983299246</td>\n",
              "      <td>SCHRODER ISF HEALTHCARE INNOVATION</td>\n",
              "      <td>USD</td>\n",
              "      <td>Buy</td>\n",
              "      <td>PopularPortfolio_04</td>\n",
              "      <td>951549</td>\n",
              "      <td>0.0150</td>\n",
              "      <td>14273.24</td>\n",
              "      <td>937275.77</td>\n",
              "      <td>100.00</td>\n",
              "      <td>9372.7577</td>\n",
              "      <td>2021-05-25</td>\n",
              "      <td>168.7500</td>\n",
              "      <td>1581652.86</td>\n",
              "    </tr>\n",
              "    <tr>\n",
              "      <th>1993</th>\n",
              "      <td>Admin</td>\n",
              "      <td>2019-07-31</td>\n",
              "      <td>LU1049752592</td>\n",
              "      <td>AMUNDI FUNDS GLOBAL AGGREGATE BOND</td>\n",
              "      <td>USD</td>\n",
              "      <td>Buy</td>\n",
              "      <td>PopularPortfolio_04</td>\n",
              "      <td>607958</td>\n",
              "      <td>0.0075</td>\n",
              "      <td>4559.69</td>\n",
              "      <td>603398.32</td>\n",
              "      <td>113.55</td>\n",
              "      <td>5313.9438</td>\n",
              "      <td>2021-05-25</td>\n",
              "      <td>117.6600</td>\n",
              "      <td>625238.63</td>\n",
              "    </tr>\n",
              "    <tr>\n",
              "      <th>1994</th>\n",
              "      <td>Admin</td>\n",
              "      <td>2019-07-31</td>\n",
              "      <td>LU1883306570</td>\n",
              "      <td>AMUNDI FUNDS EUROPEAN EQUITY SMALL CAP</td>\n",
              "      <td>USD</td>\n",
              "      <td>Buy</td>\n",
              "      <td>PopularPortfolio_04</td>\n",
              "      <td>603396</td>\n",
              "      <td>0.0150</td>\n",
              "      <td>9050.94</td>\n",
              "      <td>594345.06</td>\n",
              "      <td>181.76</td>\n",
              "      <td>3269.9442</td>\n",
              "      <td>2021-05-25</td>\n",
              "      <td>256.0600</td>\n",
              "      <td>837301.91</td>\n",
              "    </tr>\n",
              "  </tbody>\n",
              "</table>\n",
              "</div>"
            ],
            "text/plain": [
              "     CustomerID InstructionDate  ... AdjPricePerUnit AdjCostDaily\n",
              "1989      Admin      2019-07-31  ...        168.5143   1579443.70\n",
              "1990      Admin      2019-07-31  ...        168.7500    896728.02\n",
              "1991      Admin      2019-07-31  ...        168.7500    551803.08\n",
              "1992      Admin      2019-07-31  ...        168.7500   1581652.86\n",
              "1993      Admin      2019-07-31  ...        117.6600    625238.63\n",
              "1994      Admin      2019-07-31  ...        256.0600    837301.91\n",
              "\n",
              "[6 rows x 16 columns]"
            ]
          },
          "metadata": {
            "tags": []
          },
          "execution_count": 28
        }
      ]
    },
    {
      "cell_type": "code",
      "metadata": {
        "id": "lSqhNQcX756l"
      },
      "source": [
        ""
      ],
      "execution_count": null,
      "outputs": []
    }
  ]
}